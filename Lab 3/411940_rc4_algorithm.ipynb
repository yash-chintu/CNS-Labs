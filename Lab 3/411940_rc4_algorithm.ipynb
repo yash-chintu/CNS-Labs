{
 "cells": [
  {
   "cell_type": "code",
   "execution_count": 42,
   "id": "1ad39c79",
   "metadata": {},
   "outputs": [],
   "source": [
    "cipher_text = []"
   ]
  },
  {
   "cell_type": "code",
   "execution_count": 43,
   "id": "917dd698",
   "metadata": {},
   "outputs": [],
   "source": [
    "def encryption(key,plain_text,n):    \n",
    "    S = [i for i in range(0, 2**n)]\n",
    "    key_list = [key[i:i + n] for i in range(0, len(key), n)] \n",
    "    for i in range(len(key_list)):\n",
    "        key_list[i] = int(key_list[i], 2) \n",
    "    pt = [plain_text[i:i + n] for i in range(0, len(plain_text), n)]\n",
    "    for i in range(len(pt)):\n",
    "        pt[i] = int(pt[i], 2)\n",
    "    print(\"Plain text ( in array form ): \", pt) \n",
    "    diff = int(len(S)-len(key_list))\n",
    "    if diff != 0:\n",
    "        for i in range(0, diff):\n",
    "            key_list.append(key_list[i])\n",
    "    print(\"Key list : \", key_list)\n",
    "        \n",
    " \n",
    "    print(\"KSA iterations : \")\n",
    "    KSA(S,key_list)\n",
    "    print(\" \")\n",
    "     \n",
    "    key_stream = []\n",
    "    print(\"PGRA iterations : \")\n",
    "    print(\" \")\n",
    "    PGRA(key_stream,S)\n",
    "    \n",
    "    XOR(cipher_text,key_stream,pt)\n",
    " \n",
    "    encrypted_to_bits = \"\"\n",
    "    for i in cipher_text:\n",
    "        encrypted_to_bits += '0'*(n-len(bin(i)[2:]))+bin(i)[2:]\n",
    "    print(\"Cipher text : \", encrypted_to_bits)\n"
   ]
  },
  {
   "cell_type": "code",
   "execution_count": 31,
   "id": "4c797990",
   "metadata": {},
   "outputs": [],
   "source": [
    "def KSA(S,key_list):\n",
    "        j = 0\n",
    "        N = len(S)         \n",
    "        for i in range(0, N):           \n",
    "            j = (j + S[i]+key_list[i]) % N             \n",
    "            S[i], S[j] = S[j], S[i]\n",
    "            print(i, \" \", end =\"\")             \n",
    "            print(S)\n",
    "        initial_permutation_array = S\n",
    "        print(\" \")\n",
    "        print(\"The initial permutation array is : \",initial_permutation_array)"
   ]
  },
  {
   "cell_type": "code",
   "execution_count": 32,
   "id": "ce355844",
   "metadata": {},
   "outputs": [],
   "source": [
    "def XOR(cipher_text,key_stream,pt):\n",
    "        for i in range(len(pt)):\n",
    "            c = key_stream[i] ^ pt[i]\n",
    "            cipher_text.append(c)"
   ]
  },
  {
   "cell_type": "code",
   "execution_count": 33,
   "id": "a8b0abf2",
   "metadata": {},
   "outputs": [],
   "source": [
    "def PGRA(key_stream,S):\n",
    "        N = len(S)\n",
    "        i = j = 0\n",
    "        for k in range(0, len(pt)):\n",
    "            i = (i + 1) % N\n",
    "            j = (j + S[i]) % N             \n",
    "            S[i], S[j] = S[j], S[i]\n",
    "            print(k, \" \", end =\"\")\n",
    "            print(S)\n",
    "            t = (S[i]+S[j]) % N\n",
    "            key_stream.append(S[t])\n",
    "        print(\"Key stream : \", key_stream)\n",
    "        print(\" \")"
   ]
  },
  {
   "cell_type": "code",
   "execution_count": 35,
   "id": "54641a2f",
   "metadata": {},
   "outputs": [],
   "source": [
    "plain_text = \"001010010010\"\n",
    "key = \"101001000001\"\n",
    "n = 3 "
   ]
  },
  {
   "cell_type": "code",
   "execution_count": 44,
   "id": "2a262dc0",
   "metadata": {},
   "outputs": [
    {
     "name": "stdout",
     "output_type": "stream",
     "text": [
      "Plain text ( in array form ):  [1, 2, 2, 2]\n",
      "Key list :  [5, 1, 0, 1, 5, 1, 0, 1]\n",
      "KSA iterations : \n",
      "0  [5, 1, 2, 3, 4, 0, 6, 7]\n",
      "1  [5, 7, 2, 3, 4, 0, 6, 1]\n",
      "2  [5, 2, 7, 3, 4, 0, 6, 1]\n",
      "3  [5, 2, 7, 0, 4, 3, 6, 1]\n",
      "4  [5, 2, 7, 0, 6, 3, 4, 1]\n",
      "5  [5, 2, 3, 0, 6, 7, 4, 1]\n",
      "6  [5, 2, 3, 0, 6, 7, 4, 1]\n",
      "7  [1, 2, 3, 0, 6, 7, 4, 5]\n",
      " \n",
      "The initial permutation array is :  [1, 2, 3, 0, 6, 7, 4, 5]\n",
      " \n",
      "PGRA iterations : \n",
      " \n",
      "0  [1, 3, 2, 0, 6, 7, 4, 5]\n",
      "1  [1, 3, 6, 0, 2, 7, 4, 5]\n",
      "2  [1, 3, 6, 2, 0, 7, 4, 5]\n",
      "3  [1, 3, 6, 2, 0, 7, 4, 5]\n",
      "Key stream :  [7, 1, 6, 1]\n",
      " \n",
      "Cipher text :  110011100011\n"
     ]
    }
   ],
   "source": [
    "encryption(key,plain_text,n)"
   ]
  },
  {
   "cell_type": "code",
   "execution_count": 27,
   "id": "8ce42dd4",
   "metadata": {},
   "outputs": [],
   "source": [
    "#decryption"
   ]
  },
  {
   "cell_type": "code",
   "execution_count": 47,
   "id": "487f2085",
   "metadata": {},
   "outputs": [],
   "source": [
    "def decryption(cipher_text):\n",
    "    S = [i for i in range(0, 2**n)]\n",
    "    key_list = [key[i:i + n] for i in range(0, len(key), n)]\n",
    "    for i in range(len(key_list)):\n",
    "        key_list[i] = int(key_list[i], 2)\n",
    "    pt = [plain_text[i:i + n] for i in range(0, len(plain_text), n)]\n",
    "    for i in range(len(pt)):\n",
    "        pt[i] = int(pt[i], 2)\n",
    "    diff = int(len(S)-len(key_list))\n",
    "    if diff != 0:\n",
    "        for i in range(0, diff):\n",
    "            key_list.append(key_list[i])\n",
    "    KSA(S,key_list)\n",
    " \n",
    "    key_stream = []\n",
    "    print(\"PGRA iterations : \")\n",
    "    PGRA(key_stream,S)\n",
    " \n",
    "    original_text = []\n",
    "    XOR(original_text,key_stream,cipher_text)\n",
    " \n",
    "    decrypted_to_bits = \"\"\n",
    "    for i in original_text:\n",
    "        decrypted_to_bits += '0'*(n-len(bin(i)[2:]))+bin(i)[2:]\n",
    " \n",
    "    print(\"Decrypted text : \",decrypted_to_bits)"
   ]
  },
  {
   "cell_type": "code",
   "execution_count": 48,
   "id": "293ffc19",
   "metadata": {},
   "outputs": [
    {
     "name": "stdout",
     "output_type": "stream",
     "text": [
      "0  [5, 1, 2, 3, 4, 0, 6, 7]\n",
      "1  [5, 7, 2, 3, 4, 0, 6, 1]\n",
      "2  [5, 2, 7, 3, 4, 0, 6, 1]\n",
      "3  [5, 2, 7, 0, 4, 3, 6, 1]\n",
      "4  [5, 2, 7, 0, 6, 3, 4, 1]\n",
      "5  [5, 2, 3, 0, 6, 7, 4, 1]\n",
      "6  [5, 2, 3, 0, 6, 7, 4, 1]\n",
      "7  [1, 2, 3, 0, 6, 7, 4, 5]\n",
      " \n",
      "The initial permutation array is :  [1, 2, 3, 0, 6, 7, 4, 5]\n",
      "PGRA iterations : \n",
      "0  [1, 3, 2, 0, 6, 7, 4, 5]\n",
      "1  [1, 3, 6, 0, 2, 7, 4, 5]\n",
      "2  [1, 3, 6, 2, 0, 7, 4, 5]\n",
      "3  [1, 3, 6, 2, 0, 7, 4, 5]\n",
      "Key stream :  [7, 1, 6, 1]\n",
      " \n",
      "Decrypted text :  001010010010\n"
     ]
    }
   ],
   "source": [
    "decryption(cipher_text)"
   ]
  },
  {
   "cell_type": "code",
   "execution_count": null,
   "id": "4d340c09",
   "metadata": {},
   "outputs": [],
   "source": []
  }
 ],
 "metadata": {
  "kernelspec": {
   "display_name": "Python 3 (ipykernel)",
   "language": "python",
   "name": "python3"
  },
  "language_info": {
   "codemirror_mode": {
    "name": "ipython",
    "version": 3
   },
   "file_extension": ".py",
   "mimetype": "text/x-python",
   "name": "python",
   "nbconvert_exporter": "python",
   "pygments_lexer": "ipython3",
   "version": "3.9.7"
  }
 },
 "nbformat": 4,
 "nbformat_minor": 5
}
