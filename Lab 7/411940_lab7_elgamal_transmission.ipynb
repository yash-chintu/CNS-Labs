{
 "cells": [
  {
   "cell_type": "code",
   "execution_count": 48,
   "id": "32a2a974",
   "metadata": {},
   "outputs": [],
   "source": [
    "import random"
   ]
  },
  {
   "cell_type": "code",
   "execution_count": 49,
   "id": "e3548799",
   "metadata": {},
   "outputs": [],
   "source": [
    "def gcd(x,y):\n",
    "    if x < y:\n",
    "        return gcd(x,y)\n",
    "    elif x % y == 0:\n",
    "        return y;\n",
    "    else:\n",
    "        return gcd(y,x % y)"
   ]
  },
  {
   "cell_type": "code",
   "execution_count": 50,
   "id": "cb8d99f3",
   "metadata": {},
   "outputs": [],
   "source": [
    "def expansionmodule(a, b, c):\n",
    "    x = 1\n",
    "    y = a\n",
    "    while b > 0:\n",
    "        if b % 2 != 0:\n",
    "            x = (x * y) % c;\n",
    "        y = (y * y) % c\n",
    "        b = int(b / 2)\n",
    "    return x % c"
   ]
  },
  {
   "cell_type": "code",
   "execution_count": 51,
   "id": "0924b1a5",
   "metadata": {},
   "outputs": [],
   "source": [
    "def keygeneration(q):\n",
    "    k = random.randint(pow(10, 20), q)\n",
    "    while gcd(q, k) != 1:\n",
    "        k = random.randint(pow(10, 20), q)\n",
    "    return k"
   ]
  },
  {
   "cell_type": "code",
   "execution_count": 52,
   "id": "25e75491",
   "metadata": {},
   "outputs": [],
   "source": [
    "a = random.randint(2, 10)"
   ]
  },
  {
   "cell_type": "code",
   "execution_count": 53,
   "id": "9f25d0c2",
   "metadata": {},
   "outputs": [],
   "source": [
    "def encrypt(PT, q, h, g):\n",
    "    CT = []\n",
    "    k = keygeneration(q)\n",
    "    s = expansionmodule(h, k, q)\n",
    "    p = expansionmodule(g, k, q) \n",
    "    for i in range(0, len(PT)):\n",
    "        CT.append(PT[i])\n",
    "    print(\"g^k used : \", p)\n",
    "    print(\"g^ak used : \", s)\n",
    "    for i in range(0, len(CT)):\n",
    "        CT[i] = s * ord(CT[i])\n",
    "    return CT,p"
   ]
  },
  {
   "cell_type": "code",
   "execution_count": 54,
   "id": "7399cbef",
   "metadata": {},
   "outputs": [],
   "source": [
    "def decrypt(CT,p,k,q):\n",
    "    decryptedtext = []\n",
    "    h = expansionmodule(p,k, q)\n",
    "    for i in range(0, len(CT)):\n",
    "        decryptedtext.append(chr(int(CT[i]/h)))\n",
    "    return decryptedtext"
   ]
  },
  {
   "cell_type": "code",
   "execution_count": 56,
   "id": "d98c1e90",
   "metadata": {},
   "outputs": [
    {
     "name": "stdout",
     "output_type": "stream",
     "text": [
      "This text is needed to be encrypted\n"
     ]
    }
   ],
   "source": [
    "PT=input()"
   ]
  },
  {
   "cell_type": "code",
   "execution_count": 57,
   "id": "18f9594f",
   "metadata": {},
   "outputs": [],
   "source": [
    "q = random.randint(pow(10, 20), pow(10, 50))"
   ]
  },
  {
   "cell_type": "code",
   "execution_count": 58,
   "id": "44d71764",
   "metadata": {},
   "outputs": [],
   "source": [
    "g = random.randint(2, q)"
   ]
  },
  {
   "cell_type": "code",
   "execution_count": 59,
   "id": "73dce291",
   "metadata": {},
   "outputs": [],
   "source": [
    "k = keygeneration(q)"
   ]
  },
  {
   "cell_type": "code",
   "execution_count": 60,
   "id": "880f3f08",
   "metadata": {},
   "outputs": [],
   "source": [
    "h = expansionmodule(g, k, q)"
   ]
  },
  {
   "cell_type": "code",
   "execution_count": 61,
   "id": "5bdbdc4a",
   "metadata": {},
   "outputs": [
    {
     "name": "stdout",
     "output_type": "stream",
     "text": [
      "g^k used :  32171341184498362803928206456394951544935396395\n",
      "g^ak used :  167454179779635982247895584306158271138311692645\n",
      "Decrypted text= This text is needed to be encrypted\n"
     ]
    }
   ],
   "source": [
    "CT, p = encrypt(PT, q, h, g)\n",
    "DT = decrypt(CT, p, k, q)\n",
    "Dtext = ''.join(DT)\n",
    "print(\"Decrypted text=\", Dtext);"
   ]
  },
  {
   "cell_type": "code",
   "execution_count": null,
   "id": "4c1266c9",
   "metadata": {},
   "outputs": [],
   "source": []
  },
  {
   "cell_type": "markdown",
   "id": "7b15def2",
   "metadata": {},
   "source": [
    "write remarks on what happens if C1 and C2 are swapped during the transmission?"
   ]
  },
  {
   "cell_type": "markdown",
   "id": "4ec4f75d",
   "metadata": {},
   "source": [
    "Even though both C1,C2 are swapped during the encryption process of  Elgamal cryptosystem Transmission,the decryption remains the same"
   ]
  }
 ],
 "metadata": {
  "kernelspec": {
   "display_name": "Python 3 (ipykernel)",
   "language": "python",
   "name": "python3"
  },
  "language_info": {
   "codemirror_mode": {
    "name": "ipython",
    "version": 3
   },
   "file_extension": ".py",
   "mimetype": "text/x-python",
   "name": "python",
   "nbconvert_exporter": "python",
   "pygments_lexer": "ipython3",
   "version": "3.9.7"
  }
 },
 "nbformat": 4,
 "nbformat_minor": 5
}
