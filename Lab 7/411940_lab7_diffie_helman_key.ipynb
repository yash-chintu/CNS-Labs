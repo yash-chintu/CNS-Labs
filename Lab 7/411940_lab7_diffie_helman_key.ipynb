{
 "cells": [
  {
   "cell_type": "code",
   "execution_count": 68,
   "id": "847249e8",
   "metadata": {},
   "outputs": [],
   "source": [
    "from math import sqrt"
   ]
  },
  {
   "cell_type": "code",
   "execution_count": 69,
   "id": "4c061945",
   "metadata": {},
   "outputs": [],
   "source": [
    "def is_prime(n):\n",
    "    if n % 2 == 0:\n",
    "        return False\n",
    "    for i in range(3, int(sqrt(n)), 2):\n",
    "        if n % i == 0:\n",
    "            return False\n",
    "    return True"
   ]
  },
  {
   "cell_type": "code",
   "execution_count": 70,
   "id": "7fd3139a",
   "metadata": {},
   "outputs": [],
   "source": [
    "import random"
   ]
  },
  {
   "cell_type": "code",
   "execution_count": 71,
   "id": "920a2430",
   "metadata": {},
   "outputs": [],
   "source": [
    "def public_parameters(p,X,Y,K1,K2,x,y):\n",
    "    p=random.randint(100,1000000)\n",
    "    if is_prime(p):\n",
    "        print(\"p=\",p)\n",
    "        g=random.randint(1,p-1)\n",
    "        print(\"g=\",g)\n",
    "        x=random.randint(1,p-2)\n",
    "        print(\"x=\",x)\n",
    "        X=pow(g,x)%p\n",
    "        print(\"Key sent to B\",X)\n",
    "        y=random.randint(1,p-2)\n",
    "        print(\"y=\",y)\n",
    "        Y=pow(g,y)%p\n",
    "        print(\"Key sent to A\",Y)\n",
    "        K1=pow(Y,x)%p\n",
    "        K2=pow(X,y)%p\n",
    "        print(\"K1=\",K1,\"K2=\",K2)\n",
    "        \n",
    "    else:\n",
    "        public_parameters(p,X,Y,K1,K2,x,y)"
   ]
  },
  {
   "cell_type": "code",
   "execution_count": null,
   "id": "f0d74855",
   "metadata": {},
   "outputs": [],
   "source": []
  },
  {
   "cell_type": "code",
   "execution_count": 72,
   "id": "c5fa1796",
   "metadata": {},
   "outputs": [
    {
     "name": "stdout",
     "output_type": "stream",
     "text": [
      "p= 725587\n",
      "g= 425127\n",
      "x= 283413\n",
      "Key sent to B 359156\n",
      "y= 178067\n",
      "Key sent to A 464993\n",
      "K1= 360740 K2= 360740\n"
     ]
    }
   ],
   "source": [
    "public_parameters(-1,-1,-1,-1,-1,-1,-1)"
   ]
  },
  {
   "cell_type": "code",
   "execution_count": null,
   "id": "99bb80e2",
   "metadata": {},
   "outputs": [],
   "source": []
  },
  {
   "cell_type": "code",
   "execution_count": null,
   "id": "1131fb4f",
   "metadata": {},
   "outputs": [],
   "source": []
  },
  {
   "cell_type": "code",
   "execution_count": null,
   "id": "2b089a80",
   "metadata": {},
   "outputs": [],
   "source": []
  }
 ],
 "metadata": {
  "kernelspec": {
   "display_name": "Python 3 (ipykernel)",
   "language": "python",
   "name": "python3"
  },
  "language_info": {
   "codemirror_mode": {
    "name": "ipython",
    "version": 3
   },
   "file_extension": ".py",
   "mimetype": "text/x-python",
   "name": "python",
   "nbconvert_exporter": "python",
   "pygments_lexer": "ipython3",
   "version": "3.9.7"
  }
 },
 "nbformat": 4,
 "nbformat_minor": 5
}
