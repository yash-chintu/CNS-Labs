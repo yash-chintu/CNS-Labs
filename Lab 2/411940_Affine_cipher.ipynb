{
 "cells": [
  {
   "cell_type": "code",
   "execution_count": 45,
   "id": "ddd6eb0a",
   "metadata": {},
   "outputs": [],
   "source": [
    "import math\n",
    "def gcdcheck(a,b):\n",
    "    if math.gcd(a,b)==1:\n",
    "        return True\n",
    "    return False"
   ]
  },
  {
   "cell_type": "code",
   "execution_count": 46,
   "id": "7340ee0a",
   "metadata": {},
   "outputs": [
    {
     "data": {
      "text/plain": [
       "False"
      ]
     },
     "execution_count": 46,
     "metadata": {},
     "output_type": "execute_result"
    }
   ],
   "source": [
    "gcdcheck(10,20)"
   ]
  },
  {
   "cell_type": "code",
   "execution_count": 47,
   "id": "811d8f81",
   "metadata": {},
   "outputs": [],
   "source": [
    "def multiplicativeinverse(a,n):\n",
    "    for i in range(1,n):\n",
    "        if(((a%n)*(i%n))%n==1):\n",
    "            return i\n",
    "    return -1"
   ]
  },
  {
   "cell_type": "code",
   "execution_count": 48,
   "id": "1902b2c5",
   "metadata": {},
   "outputs": [
    {
     "data": {
      "text/plain": [
       "19"
      ]
     },
     "execution_count": 48,
     "metadata": {},
     "output_type": "execute_result"
    }
   ],
   "source": [
    "multiplicativeinverse(11,26)"
   ]
  },
  {
   "cell_type": "markdown",
   "id": "fbda6378",
   "metadata": {},
   "source": [
    "# Encryption"
   ]
  },
  {
   "cell_type": "code",
   "execution_count": 49,
   "id": "edd57ae0",
   "metadata": {},
   "outputs": [],
   "source": [
    "def affineencrypt(a,b,plaintext):\n",
    "    if not gcdcheck(a,b):\n",
    "        return False\n",
    "    encrypted=\"\"\n",
    "    plaintext=plaintext.lower()\n",
    "    for i in plaintext:\n",
    "        place=ord(i)-97\n",
    "        c=(a*place+b)%26\n",
    "        encrypted+=chr(c+97)\n",
    "    return encrypted"
   ]
  },
  {
   "cell_type": "code",
   "execution_count": 50,
   "id": "870e0ee2",
   "metadata": {},
   "outputs": [
    {
     "data": {
      "text/plain": [
       "'te'"
      ]
     },
     "execution_count": 50,
     "metadata": {},
     "output_type": "execute_result"
    }
   ],
   "source": [
    "affineencrypt(11,100,\"vw\")"
   ]
  },
  {
   "cell_type": "markdown",
   "id": "ba5da754",
   "metadata": {},
   "source": [
    "# Decryption"
   ]
  },
  {
   "cell_type": "code",
   "execution_count": 51,
   "id": "9401b03e",
   "metadata": {},
   "outputs": [],
   "source": [
    "def affinedecrypt(a,b,ciphertext):\n",
    "    if not gcdcheck(a,b):\n",
    "        return False\n",
    "    decrypted=\"\"\n",
    "    ciphertext=ciphertext.lower()\n",
    "    for i in ciphertext:\n",
    "        c=ord(i)-97\n",
    "        k=(c-b)%26\n",
    "        if k<0:\n",
    "            k=((c-b)%26+26)%26\n",
    "        a1=multiplicativeinverse(a,26)\n",
    "        p=(k*a1)%26    \n",
    "        decrypted+=chr(p+97)\n",
    "    return decrypted"
   ]
  },
  {
   "cell_type": "code",
   "execution_count": 52,
   "id": "344217be",
   "metadata": {},
   "outputs": [
    {
     "data": {
      "text/plain": [
       "'vw'"
      ]
     },
     "execution_count": 52,
     "metadata": {},
     "output_type": "execute_result"
    }
   ],
   "source": [
    "affinedecrypt(11,100,\"te\")"
   ]
  },
  {
   "cell_type": "code",
   "execution_count": null,
   "id": "5f51233d",
   "metadata": {},
   "outputs": [],
   "source": []
  }
 ],
 "metadata": {
  "kernelspec": {
   "display_name": "Python 3 (ipykernel)",
   "language": "python",
   "name": "python3"
  },
  "language_info": {
   "codemirror_mode": {
    "name": "ipython",
    "version": 3
   },
   "file_extension": ".py",
   "mimetype": "text/x-python",
   "name": "python",
   "nbconvert_exporter": "python",
   "pygments_lexer": "ipython3",
   "version": "3.9.7"
  }
 },
 "nbformat": 4,
 "nbformat_minor": 5
}
