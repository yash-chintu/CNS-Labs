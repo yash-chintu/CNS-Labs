{
 "cells": [
  {
   "cell_type": "code",
   "execution_count": 8,
   "id": "03293381",
   "metadata": {},
   "outputs": [],
   "source": [
    "def encryptMessage(key,plaintext):\n",
    "    ciphertext = [''] * key\n",
    "    for col in range(key):\n",
    "        pointer = col\n",
    "        while pointer < len(plaintext):\n",
    "            ciphertext[col] += plaintext[pointer]\n",
    "            pointer += key\n",
    "    return ''.join(ciphertext)"
   ]
  },
  {
   "cell_type": "code",
   "execution_count": 10,
   "id": "4b103494",
   "metadata": {},
   "outputs": [
    {
     "name": "stdout",
     "output_type": "stream",
     "text": [
      "hello world\n",
      "3\n",
      "hlwleoodl r\n"
     ]
    }
   ],
   "source": [
    "myMessage = input()\n",
    "myKey=int(input())\n",
    "ciphertext = encryptMessage(myKey, myMessage)\n",
    "print(ciphertext)"
   ]
  },
  {
   "cell_type": "code",
   "execution_count": null,
   "id": "ec3bbca2",
   "metadata": {},
   "outputs": [],
   "source": []
  }
 ],
 "metadata": {
  "kernelspec": {
   "display_name": "Python 3 (ipykernel)",
   "language": "python",
   "name": "python3"
  },
  "language_info": {
   "codemirror_mode": {
    "name": "ipython",
    "version": 3
   },
   "file_extension": ".py",
   "mimetype": "text/x-python",
   "name": "python",
   "nbconvert_exporter": "python",
   "pygments_lexer": "ipython3",
   "version": "3.9.7"
  }
 },
 "nbformat": 4,
 "nbformat_minor": 5
}
