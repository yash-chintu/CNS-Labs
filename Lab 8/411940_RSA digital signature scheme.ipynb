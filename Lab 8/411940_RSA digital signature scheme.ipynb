{
 "cells": [
  {
   "cell_type": "code",
   "execution_count": 49,
   "id": "85012586",
   "metadata": {},
   "outputs": [],
   "source": [
    "import random"
   ]
  },
  {
   "cell_type": "code",
   "execution_count": 50,
   "id": "200ecbc3",
   "metadata": {},
   "outputs": [],
   "source": [
    "from math import sqrt"
   ]
  },
  {
   "cell_type": "code",
   "execution_count": 51,
   "id": "15314980",
   "metadata": {},
   "outputs": [],
   "source": [
    "def is_prime(n):\n",
    "    if n % 2 == 0:\n",
    "        return False\n",
    "    for i in range(3, int(sqrt(n)), 2):\n",
    "        if n % i == 0:\n",
    "            return False\n",
    "    return True"
   ]
  },
  {
   "cell_type": "code",
   "execution_count": 52,
   "id": "29325666",
   "metadata": {},
   "outputs": [],
   "source": [
    "def gcdcheck(a, b):  \n",
    "    if b == 0:\n",
    "        return a\n",
    "    else:\n",
    "        r = a % b\n",
    "        return gcdcheck(b, r)"
   ]
  },
  {
   "cell_type": "code",
   "execution_count": 53,
   "id": "fb698b9d",
   "metadata": {},
   "outputs": [],
   "source": [
    "def multiplicativeinversefinder(a, b): \n",
    "    r1 = a\n",
    "    r2 = b\n",
    "    s1 = int(1)\n",
    "    s2 = int(0)\n",
    "    t1 = int(0)\n",
    "    t2 = int(1)\n",
    "    while r2 > 0:\n",
    "        q = r1//r2\n",
    "        r = r1-q * r2\n",
    "        r1 = r2\n",
    "        r2 = r\n",
    "        s = s1-q * s2\n",
    "        s1 = s2\n",
    "        s2 = s\n",
    "        t = t1-q * t2\n",
    "        t1 = t2\n",
    "        t2 = t\n",
    "    if t1 < 0:\n",
    "        t1 = t1 % a\n",
    "    return (r1, t1)"
   ]
  },
  {
   "cell_type": "code",
   "execution_count": 54,
   "id": "cd7079b3",
   "metadata": {},
   "outputs": [],
   "source": [
    "p=random.randint(100,1000)\n",
    "if is_prime(p):\n",
    "    print(\"p=\",p)"
   ]
  },
  {
   "cell_type": "code",
   "execution_count": 55,
   "id": "9f296ff0",
   "metadata": {},
   "outputs": [],
   "source": [
    "q=random.randint(100,1000)\n",
    "if is_prime(q):\n",
    "    print(\"q=\",q)"
   ]
  },
  {
   "cell_type": "code",
   "execution_count": 56,
   "id": "48144a70",
   "metadata": {},
   "outputs": [],
   "source": [
    "n = p * q\n",
    "P = (p-1)*(q-1)"
   ]
  },
  {
   "cell_type": "code",
   "execution_count": 57,
   "id": "d4a9ff53",
   "metadata": {},
   "outputs": [],
   "source": [
    "exchangekey = []\n",
    "for i in range(2, P):\n",
    "    gcd = gcdcheck(P,i)\n",
    "    if gcd == 1:\n",
    "        exchangekey.append(i)"
   ]
  },
  {
   "cell_type": "code",
   "execution_count": 58,
   "id": "6bdd1832",
   "metadata": {},
   "outputs": [],
   "source": [
    "e=random.choice(exchangekey)"
   ]
  },
  {
   "cell_type": "code",
   "execution_count": 59,
   "id": "5bc5bb43",
   "metadata": {},
   "outputs": [
    {
     "name": "stdout",
     "output_type": "stream",
     "text": [
      "Dkey  1236\n"
     ]
    }
   ],
   "source": [
    "r, d = multiplicativeinversefinder(P, e)\n",
    "if r == 1:\n",
    "    d = int(d)\n",
    "    print(\"Dkey \", d)\n",
    "     \n",
    "else:\n",
    "    print(\"No key\")\n",
    "  "
   ]
  },
  {
   "cell_type": "code",
   "execution_count": 60,
   "id": "741dba04",
   "metadata": {},
   "outputs": [
    {
     "name": "stdout",
     "output_type": "stream",
     "text": [
      "19070\n"
     ]
    }
   ],
   "source": [
    "M = int(input())\n",
    "Sa = (M**d) % n"
   ]
  },
  {
   "cell_type": "code",
   "execution_count": 61,
   "id": "5b27343d",
   "metadata": {},
   "outputs": [],
   "source": [
    "M1 = (Sa**e) % n"
   ]
  },
  {
   "cell_type": "code",
   "execution_count": 62,
   "id": "14029276",
   "metadata": {},
   "outputs": [
    {
     "name": "stdout",
     "output_type": "stream",
     "text": [
      "not accepted \n"
     ]
    }
   ],
   "source": [
    "if M == M1:\n",
    "    print(\"Accepted\")\n",
    "else:\n",
    "    print(\"not accepted \")"
   ]
  },
  {
   "cell_type": "code",
   "execution_count": null,
   "id": "6514f9ab",
   "metadata": {},
   "outputs": [],
   "source": []
  }
 ],
 "metadata": {
  "kernelspec": {
   "display_name": "Python 3 (ipykernel)",
   "language": "python",
   "name": "python3"
  },
  "language_info": {
   "codemirror_mode": {
    "name": "ipython",
    "version": 3
   },
   "file_extension": ".py",
   "mimetype": "text/x-python",
   "name": "python",
   "nbconvert_exporter": "python",
   "pygments_lexer": "ipython3",
   "version": "3.9.7"
  }
 },
 "nbformat": 4,
 "nbformat_minor": 5
}
